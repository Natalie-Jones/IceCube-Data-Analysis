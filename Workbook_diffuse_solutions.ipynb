{
  "nbformat": 4,
  "nbformat_minor": 0,
  "metadata": {
    "colab": {
      "name": "Workbook_diffuse_solutions.ipynb",
      "version": "0.3.2",
      "provenance": [],
      "collapsed_sections": [],
      "include_colab_link": true
    },
    "kernelspec": {
      "name": "python3",
      "display_name": "Python 3"
    }
  },
  "cells": [
    {
      "cell_type": "markdown",
      "metadata": {
        "id": "view-in-github",
        "colab_type": "text"
      },
      "source": [
        "<a href=\"https://colab.research.google.com/github/Natalie-Jones/IceCube-Data-Analysis/blob/master/Workbook_diffuse_solutions.ipynb\" target=\"_parent\"><img src=\"https://colab.research.google.com/assets/colab-badge.svg\" alt=\"Open In Colab\"/></a>"
      ]
    },
    {
      "cell_type": "markdown",
      "metadata": {
        "id": "we_HV3sNCJvZ",
        "colab_type": "text"
      },
      "source": [
        "# Solutions #\n",
        "\n",
        "We'll paste solutions here every 30 minutes\n",
        "\n",
        "If you get stuck, raise your hand and we'll help you out individually\n"
      ]
    },
    {
      "cell_type": "code",
      "metadata": {
        "id": "XaUrXi4xCImx",
        "colab_type": "code",
        "colab": {}
      },
      "source": [
        "import numpy as np\n",
        "import scipy as sp\n",
        "import scipy.stats\n",
        "import matplotlib\n",
        "%matplotlib inline\n",
        "import matplotlib.pyplot as plt\n",
        "import json\n",
        "from google.colab import drive\n",
        "drive.mount('/content/drive')"
      ],
      "execution_count": 0,
      "outputs": []
    },
    {
      "cell_type": "code",
      "metadata": {
        "id": "_GcStmVCc4vn",
        "colab_type": "code",
        "colab": {}
      },
      "source": [
        "json_contents = json.load(open(\"/content/drive/My Drive/hese_toy_simulation.json\", \"r\"))\n",
        "simulation_mapping = json_contents[\"mapping\"]\n",
        "simulation_events = np.array(json_contents[\"events\"])\n",
        "del json_contents"
      ],
      "execution_count": 0,
      "outputs": []
    },
    {
      "cell_type": "code",
      "metadata": {
        "id": "H4FPMpBjdFtf",
        "colab_type": "code",
        "colab": {}
      },
      "source": [
        "sim_map = sorted(simulation_mapping.items(), key=lambda x: x[1])\n",
        "print (sim_map)"
      ],
      "execution_count": 0,
      "outputs": []
    },
    {
      "cell_type": "code",
      "metadata": {
        "id": "QL5OnEqLdIYH",
        "colab_type": "code",
        "colab": {}
      },
      "source": [
        "print (simulation_events[:2])\n",
        "[[(k, e[i]) for k, i in sim_map] for e in simulation_events[:2]]"
      ],
      "execution_count": 0,
      "outputs": []
    },
    {
      "cell_type": "code",
      "metadata": {
        "id": "fONj2JDtdMGG",
        "colab_type": "code",
        "colab": {}
      },
      "source": [
        "json_contents = json.load(open(\"/content/drive/My Drive/hese_toy_data.json\", \"r\"))\n",
        "data_mapping = json_contents[\"mapping\"]\n",
        "data_events = np.array(json_contents[\"events\"])\n",
        "del json_contents"
      ],
      "execution_count": 0,
      "outputs": []
    },
    {
      "cell_type": "code",
      "metadata": {
        "id": "g76i1gVcdRIt",
        "colab_type": "code",
        "colab": {}
      },
      "source": [
        "data_map = sorted(data_mapping.items(), key=lambda x: x[1])\n",
        "print (data_map)"
      ],
      "execution_count": 0,
      "outputs": []
    },
    {
      "cell_type": "code",
      "metadata": {
        "id": "J8o2cynSdTCW",
        "colab_type": "code",
        "colab": {}
      },
      "source": [
        "print (data_events[:2])\n",
        "[[(k, e[i]) for k, i in data_map] for e in data_events[:2]]"
      ],
      "execution_count": 0,
      "outputs": []
    },
    {
      "cell_type": "code",
      "metadata": {
        "id": "kdniFi_bdVJN",
        "colab_type": "code",
        "colab": {}
      },
      "source": [
        "energy_bins = np.logspace(np.log10(60.0e3), np.log10(1.0e7), 20+1)\n",
        "zenith_bins = np.arccos(np.linspace(-1, 1, 10+1))[::-1]\n",
        "topology_bins = np.linspace(0, 2, 2+1)\n",
        "\n",
        "h = np.histogram(data_events[:,0], bins = energy_bins)"
      ],
      "execution_count": 0,
      "outputs": []
    },
    {
      "cell_type": "code",
      "metadata": {
        "id": "_TCoxrv6dbs8",
        "colab_type": "code",
        "colab": {}
      },
      "source": [
        "centers = (energy_bins[1:] + energy_bins[:-1])/2.\n",
        "lower = centers - energy_bins[:-1] \n",
        "upper = energy_bins[1:] - centers\n",
        "xerr = np.array([lower, upper])\n",
        "yerr = np.sqrt(h[0])\n",
        "yerr = np.where(yerr==1, 0.99, yerr)\n",
        "\n",
        "uplims = np.zeros(len(centers))\n",
        "plt.figure(figsize=[10,6])\n",
        "plt.errorbar(centers, h[0], xerr=xerr, yerr=yerr,capsize=4,fmt='o',color='k',alpha=0.9,linewidth=2,label='data')\n",
        "\n",
        "plt.semilogy()\n",
        "plt.semilogx()\n",
        "plt.ylim(1e-1, 1e2)\n",
        "plt.legend(fontsize=17)\n",
        "plt.xlabel('Energy (GeV)',fontsize=15)"
      ],
      "execution_count": 0,
      "outputs": []
    },
    {
      "cell_type": "code",
      "metadata": {
        "id": "DuwaySjSdfIT",
        "colab_type": "code",
        "colab": {}
      },
      "source": [
        "def weight_event(event, atmo_norm, astro_norm, astro_gamma):\n",
        "    astroWeight = event[...,0]\n",
        "    atmoWeight = event[...,1]\n",
        "    primaryEnergy = event[...,3]\n",
        "    \n",
        "    weight = (atmoWeight * atmo_norm \n",
        "              + astroWeight * astro_norm * pow(primaryEnergy/1e5, -(astro_gamma-2.5)))\n",
        "    \n",
        "    return weight"
      ],
      "execution_count": 0,
      "outputs": []
    },
    {
      "cell_type": "code",
      "metadata": {
        "id": "6A6My4g4dhvz",
        "colab_type": "code",
        "colab": {}
      },
      "source": [
        "energy_bins = np.logspace(np.log10(60.0e3), np.log10(1.0e7), 20+1)\n",
        "zenith_bins = np.arccos(np.linspace(-1, 1, 10+1))[::-1]\n",
        "topology_bins = np.linspace(0, 2, 2+1)"
      ],
      "execution_count": 0,
      "outputs": []
    },
    {
      "cell_type": "code",
      "metadata": {
        "id": "UplYV_1cdtGt",
        "colab_type": "code",
        "colab": {}
      },
      "source": [
        "def make_bin_masks(energies, zeniths, topologies,\n",
        "                   energy_bins=energy_bins, zenith_bins=zenith_bins, topology_bins=topology_bins):\n",
        "    \n",
        "    assert(len(energies) == len(zeniths))\n",
        "    assert(len(energies) == len(topologies))\n",
        "    \n",
        "    n_energy_bins = len(energy_bins) - 1\n",
        "    n_zenith_bins = len(zenith_bins) - 1\n",
        "    n_topology_bins = len(topology_bins) - 1\n",
        "    \n",
        "    energy_mapping = np.digitize(energies, bins=energy_bins) - 1\n",
        "    zenith_mapping = np.digitize(zeniths, bins=zenith_bins) - 1\n",
        "    topology_mapping = np.digitize(topologies, bins=topology_bins) - 1\n",
        "    bin_masks = []\n",
        "    for i in range(n_topology_bins):\n",
        "        for j in range(n_zenith_bins):\n",
        "            for k in range(n_energy_bins):\n",
        "                mask = topology_mapping == i\n",
        "                mask = np.logical_and(mask, zenith_mapping == j)\n",
        "                mask = np.logical_and(mask, energy_mapping == k)\n",
        "                bin_masks.append(mask)\n",
        "    return bin_masks"
      ],
      "execution_count": 0,
      "outputs": []
    },
    {
      "cell_type": "code",
      "metadata": {
        "id": "2bLPKJiSdvfc",
        "colab_type": "code",
        "colab": {}
      },
      "source": [
        "bin_masks = make_bin_masks(simulation_events[:,2], simulation_events[:,6], simulation_events[:,5])\n",
        "data_masks = make_bin_masks(data_events[:,0], data_events[:,2], data_events[:,1])"
      ],
      "execution_count": 0,
      "outputs": []
    },
    {
      "cell_type": "code",
      "metadata": {
        "id": "ct8Z-PxKd4ns",
        "colab_type": "code",
        "colab": {}
      },
      "source": [
        "def get_expectation(events, masks, weighting):\n",
        "    all_weights = weighting(events)\n",
        "    weights = []\n",
        "    for mask in masks:\n",
        "        weight = np.sum(all_weights[mask])\n",
        "        weights.append(weight)\n",
        "    return np.array(weights)\n"
      ],
      "execution_count": 0,
      "outputs": []
    },
    {
      "cell_type": "code",
      "metadata": {
        "id": "gtSb9IFNeAum",
        "colab_type": "code",
        "colab": {}
      },
      "source": [
        "def llh(data, simulation_events, atmo_norm, astro_norm, astro_gamma):\n",
        "    expect = get_expectation(simulation_events,\n",
        "                             bin_masks,\n",
        "                             lambda e: weight_event(e, atmo_norm, astro_norm, astro_gamma))\n",
        "    l = -(data * np.log(expect) - expect - sp.special.loggamma(data+1))\n",
        "    l[np.logical_and(data == 0, expect == 0)] = 0\n",
        "    l = np.sum(l).real\n",
        "    return l"
      ],
      "execution_count": 0,
      "outputs": []
    },
    {
      "cell_type": "code",
      "metadata": {
        "id": "fJHv5nvbm-Sa",
        "colab_type": "code",
        "outputId": "4bb80491-8162-4531-ad32-524a93138dc8",
        "colab": {
          "base_uri": "https://localhost:8080/",
          "height": 124
        }
      },
      "source": [
        "data = np.sum(np.array(data_masks), axis=1)\n",
        "print (llh(data, simulation_events, 1.0, 1.0, 2.5))"
      ],
      "execution_count": 0,
      "outputs": [
        {
          "output_type": "stream",
          "text": [
            "222.27828015190465\n"
          ],
          "name": "stdout"
        },
        {
          "output_type": "stream",
          "text": [
            "/usr/local/lib/python3.6/dist-packages/ipykernel_launcher.py:5: RuntimeWarning: divide by zero encountered in log\n",
            "  \"\"\"\n",
            "/usr/local/lib/python3.6/dist-packages/ipykernel_launcher.py:5: RuntimeWarning: invalid value encountered in multiply\n",
            "  \"\"\"\n"
          ],
          "name": "stderr"
        }
      ]
    },
    {
      "cell_type": "code",
      "metadata": {
        "id": "mbn-_N2gopW4",
        "colab_type": "code",
        "outputId": "d7188a56-cdab-4897-852d-db0fd24ba832",
        "colab": {
          "base_uri": "https://localhost:8080/",
          "height": 107
        }
      },
      "source": [
        "res = sp.optimize.minimize(lambda x: llh(data, simulation_events, *x),\n",
        "                           [1.0, 6.0, 2.9],\n",
        "                           method='L-BFGS-B',\n",
        "                           bounds=[[0,None],[0,None],[None,None]])"
      ],
      "execution_count": 0,
      "outputs": [
        {
          "output_type": "stream",
          "text": [
            "/usr/local/lib/python3.6/dist-packages/ipykernel_launcher.py:5: RuntimeWarning: divide by zero encountered in log\n",
            "  \"\"\"\n",
            "/usr/local/lib/python3.6/dist-packages/ipykernel_launcher.py:5: RuntimeWarning: invalid value encountered in multiply\n",
            "  \"\"\"\n"
          ],
          "name": "stderr"
        }
      ]
    },
    {
      "cell_type": "code",
      "metadata": {
        "id": "bBb6vQA2qp6O",
        "colab_type": "code",
        "outputId": "14b29aa2-3670-4e6a-ffb1-b40e35a4a9b8",
        "colab": {
          "base_uri": "https://localhost:8080/",
          "height": 173
        }
      },
      "source": [
        "print (res)"
      ],
      "execution_count": 0,
      "outputs": [
        {
          "output_type": "stream",
          "text": [
            "      fun: 175.4846456749209\n",
            " hess_inv: <3x3 LbfgsInvHessProduct with dtype=float64>\n",
            "      jac: array([8.52651283e-06, 0.00000000e+00, 1.13686838e-05])\n",
            "  message: b'CONVERGENCE: REL_REDUCTION_OF_F_<=_FACTR*EPSMCH'\n",
            "     nfev: 52\n",
            "      nit: 11\n",
            "   status: 0\n",
            "  success: True\n",
            "        x: array([0.9963915 , 6.71417868, 2.99387581])\n"
          ],
          "name": "stdout"
        }
      ]
    },
    {
      "cell_type": "code",
      "metadata": {
        "id": "5RJBWaOCqsd2",
        "colab_type": "code",
        "outputId": "f439f00e-4f8f-4dd8-80fa-05cf14445782",
        "colab": {
          "base_uri": "https://localhost:8080/",
          "height": 69
        }
      },
      "source": [
        "print ('Atmospheric Normalization = ', res.x[0])\n",
        "print ('Astrophysical Normalization = ', res.x[1])\n",
        "print ('Astrophysical Gamma = ', res.x[2])"
      ],
      "execution_count": 0,
      "outputs": [
        {
          "output_type": "stream",
          "text": [
            "Atmospheric Normalization =  0.996391503118721\n",
            "Astrophysical Normalization =  6.714178676939703\n",
            "Astrophysical Gamma =  2.993875806500643\n"
          ],
          "name": "stdout"
        }
      ]
    },
    {
      "cell_type": "code",
      "metadata": {
        "id": "ekyAU58Cqtx9",
        "colab_type": "code",
        "colab": {}
      },
      "source": [
        ""
      ],
      "execution_count": 0,
      "outputs": []
    }
  ]
}